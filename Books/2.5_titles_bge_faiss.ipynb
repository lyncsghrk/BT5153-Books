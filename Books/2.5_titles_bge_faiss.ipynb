version https://git-lfs.github.com/spec/v1
oid sha256:2d30c95be45017d21ebf9d47f768d17702b7736426806a98b466119e124c81b8
size 6541
