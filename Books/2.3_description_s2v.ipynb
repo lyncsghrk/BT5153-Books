version https://git-lfs.github.com/spec/v1
oid sha256:a6433bffb6b94788564437c43c390fabb064b309876838ab09cb2b961b8dc877
size 244714
